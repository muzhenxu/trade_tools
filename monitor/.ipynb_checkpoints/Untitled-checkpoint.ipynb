{
 "cells": [
  {
   "cell_type": "code",
   "execution_count": 19,
   "metadata": {},
   "outputs": [],
   "source": [
    "from rest_api.HuobiServices import *\n",
    "import pandas as pd\n",
    "import json\n",
    "import time\n",
    "\n",
    "xh_symbol = ['btcusdt']\n",
    "xh_period = ['5min']\n",
    "upper_threshold = ''\n",
    "\n",
    "while True:\n",
    "    for symbol in xh_symbol:\n",
    "        for period in xh_period:\n",
    "            data = get_kline(symbol, period)\n",
    "\n",
    "            df = pd.read_json(json.dumps(data['data']))\n",
    "\n",
    "            def timestamp_to_datetime(s):\n",
    "                timeArray = time.localtime(s)\n",
    "                return time.strftime(\"%Y-%m-%d %H:%M:%S\", timeArray)\n",
    "\n",
    "            df.id = pd.to_datetime(df.id.map(timestamp_to_datetime))\n",
    "\n",
    "            amount_ratio = df.amount[1] / df.amount[2:].mean()\n",
    "            upper = df.high[1]\n",
    "            lower = df.low[1]\n",
    "            \n",
    "            sgn = 0\n",
    "\n",
    "            if amount_ratio >= 2:\n",
    "                amount_msg = f'{symbol} {period} amount is over {amount_ratio} times'\n",
    "                sgn += 1\n",
    "            elif amount_ratio <= 0.5:\n",
    "                amount_msg = f'{symbol} {period} amount reaches {amount_ratio} times'\n",
    "                sgn += 1\n",
    "            else:\n",
    "                amount_msg = amout_ratio\n",
    "                \n",
    "            if upper >= upper_threshold:\n",
    "                upper_msg = f'{symbol} {period} high price is over {upper}'\n",
    "                sgn += 1\n",
    "            else:\n",
    "                amount_msg = upper\n",
    "            \n",
    "            if lower <= lower_threshold:\n",
    "                lower_msg = f'{symbol} {period} low price reaches {lower}'\n",
    "                sgn += 1\n",
    "            else:\n",
    "                lower_msg = lower\n",
    "                \n",
    "            msg = {'amount_msg': amount_msg, 'upper_msg': upper_msg, 'lower_msg': lower_msg}\n",
    "            \n",
    "            if sgn > 0:\n",
    "                print(msg)\n",
    "                \n",
    "                \n",
    "            time.sleep(180)"
   ]
  },
  {
   "cell_type": "code",
   "execution_count": 20,
   "metadata": {},
   "outputs": [],
   "source": []
  },
  {
   "cell_type": "code",
   "execution_count": null,
   "metadata": {
    "collapsed": true
   },
   "outputs": [],
   "source": []
  }
 ],
 "metadata": {
  "kernelspec": {
   "display_name": "Python 3",
   "language": "python",
   "name": "python3"
  },
  "language_info": {
   "codemirror_mode": {
    "name": "ipython",
    "version": 3
   },
   "file_extension": ".py",
   "mimetype": "text/x-python",
   "name": "python",
   "nbconvert_exporter": "python",
   "pygments_lexer": "ipython3",
   "version": "3.6.3"
  }
 },
 "nbformat": 4,
 "nbformat_minor": 2
}

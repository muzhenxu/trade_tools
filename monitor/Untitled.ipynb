{
 "cells": [
  {
   "cell_type": "code",
   "execution_count": 19,
   "metadata": {
    "collapsed": true
   },
   "outputs": [],
   "source": [
    "from rest_api.HuobiServices import *\n",
    "import pandas as pd\n",
    "import json\n",
    "import time\n",
    "\n",
    "xh_symbol = ['btcusdt']\n",
    "xh_period = ['5min']\n",
    "upper_threshold = ''\n",
    "\n",
    "while True:\n",
    "    for symbol in xh_symbol:\n",
    "        for period in xh_period:\n",
    "            data = get_kline(symbol, period)\n",
    "\n",
    "            df = pd.read_json(json.dumps(data['data']))\n",
    "\n",
    "            def timestamp_to_datetime(s):\n",
    "                timeArray = time.localtime(s)\n",
    "                return time.strftime(\"%Y-%m-%d %H:%M:%S\", timeArray)\n",
    "\n",
    "            df.id = pd.to_datetime(df.id.map(timestamp_to_datetime))\n",
    "\n",
    "            amount_ratio = df.amount[1] / df.amount[2:].mean()\n",
    "            upper = df.high[1]\n",
    "            lower = df.low[1]\n",
    "            span = upper - lower\n",
    "            var = df.high[0] - df.low[0]\n",
    "            \n",
    "            sgn = 0\n",
    "\n",
    "            if amount_ratio >= 2:\n",
    "                amount_msg = f'{symbol} {period} amount is over {amount_ratio} times'\n",
    "                sgn += 1\n",
    "            elif amount_ratio <= 0.5:\n",
    "                amount_msg = f'{symbol} {period} amount reaches {amount_ratio} times'\n",
    "                sgn += 1\n",
    "            else:\n",
    "                amount_msg = amout_ratio\n",
    "                \n",
    "            if upper >= upper_threshold:\n",
    "                upper_msg = f'{symbol} {period} high price is over {upper}'\n",
    "                sgn += 1\n",
    "            else:\n",
    "                amount_msg = upper\n",
    "            \n",
    "            if lower <= lower_threshold:\n",
    "                lower_msg = f'{symbol} {period} low price reaches {lower}'\n",
    "                sgn += 1\n",
    "            else:\n",
    "                lower_msg = lower\n",
    "                \n",
    "            if span >= 200:\n",
    "                span_msg = f'{symbol} {period} span is {span}'\n",
    "                sgn += 1\n",
    "            else:\n",
    "                span_msg = span\n",
    "                \n",
    "            if var >= 100:\n",
    "                var_msg = f'{symbol} {period} var is {var}'\n",
    "                sgn += 1\n",
    "            else:\n",
    "                var_msg = var\n",
    "                \n",
    "            msg = {'amount_msg': amount_msg, 'upper_msg': upper_msg, 'lower_msg': lower_msg, 'span_msg', span_msg, 'var_msg': var_msg}\n",
    "            \n",
    "            if sgn > 0:\n",
    "                print(msg)\n",
    "                \n",
    "                \n",
    "            time.sleep(180)"
   ]
  },
  {
   "cell_type": "code",
   "execution_count": 8,
   "metadata": {},
   "outputs": [
    {
     "name": "stderr",
     "output_type": "stream",
     "text": [
      "LOG OUT!\n",
      "Start auto replying.\n",
      "Traceback (most recent call last):\n",
      "  File \"/home/muzhen/anaconda3/lib/python3.6/site-packages/itchat/components/register.py\", line 60, in configured_reply\n",
      "    r = replyFn(msg)\n",
      "  File \"<ipython-input-8-4a75a5a25ca6>\", line 11, in text_reply\n",
      "    print(msg['NickName'])\n",
      "  File \"/home/muzhen/anaconda3/lib/python3.6/site-packages/itchat/storage/messagequeue.py\", line 26, in __getitem__\n",
      "    return super(Message, self).__getitem__(value)\n",
      "KeyError: 'NickName'\n",
      "\n"
     ]
    },
    {
     "name": "stdout",
     "output_type": "stream",
     "text": [
      "{'MsgId': '854959194580426621', 'FromUserName': '@b9fb346bc424ab5a420b0400bbc866027f22c14e316b3a026e2caef1355f03fa', 'ToUserName': '@b9fb346bc424ab5a420b0400bbc866027f22c14e316b3a026e2caef1355f03fa', 'MsgType': 1, 'Content': '好', 'Status': 3, 'ImgStatus': 1, 'CreateTime': 1519487095, 'VoiceLength': 0, 'PlayLength': 0, 'FileName': '', 'FileSize': '', 'MediaId': '', 'Url': '', 'AppMsgType': 0, 'StatusNotifyCode': 0, 'StatusNotifyUserName': '', 'RecommendInfo': {'UserName': '', 'NickName': '', 'QQNum': 0, 'Province': '', 'City': '', 'Content': '', 'Signature': '', 'Alias': '', 'Scene': 0, 'VerifyFlag': 0, 'AttrStatus': 0, 'Sex': 0, 'Ticket': '', 'OpCode': 0}, 'ForwardFlag': 0, 'AppInfo': {'AppID': '', 'Type': 0}, 'HasProductId': 0, 'Ticket': '', 'ImgHeight': 0, 'ImgWidth': 0, 'SubMsgType': 0, 'NewMsgId': 854959194580426621, 'OriContent': '', 'EncryFileName': '', 'User': <User: {'userName': '@b9fb346bc424ab5a420b0400bbc866027f22c14e316b3a026e2caef1355f03fa', 'MemberList': <ContactList: []>}>, 'Type': 'Text', 'Text': '好'}\n",
      "@b9fb346bc424ab5a420b0400bbc866027f22c14e316b3a026e2caef1355f03fa\n"
     ]
    },
    {
     "name": "stderr",
     "output_type": "stream",
     "text": [
      "Bye~\n"
     ]
    },
    {
     "ename": "NameError",
     "evalue": "name 'm' is not defined",
     "output_type": "error",
     "traceback": [
      "\u001b[0;31m---------------------------------------------------------------------------\u001b[0m",
      "\u001b[0;31mNameError\u001b[0m                                 Traceback (most recent call last)",
      "\u001b[0;32m<ipython-input-8-4a75a5a25ca6>\u001b[0m in \u001b[0;36m<module>\u001b[0;34m()\u001b[0m\n\u001b[1;32m     17\u001b[0m \u001b[0;32mimport\u001b[0m \u001b[0mtime\u001b[0m\u001b[0;34m\u001b[0m\u001b[0m\n\u001b[1;32m     18\u001b[0m \u001b[0;32mwhile\u001b[0m \u001b[0;36m1\u001b[0m\u001b[0;34m:\u001b[0m\u001b[0;34m\u001b[0m\u001b[0m\n\u001b[0;32m---> 19\u001b[0;31m     \u001b[0mprint\u001b[0m\u001b[0;34m(\u001b[0m\u001b[0mm\u001b[0m\u001b[0;34m)\u001b[0m\u001b[0;34m\u001b[0m\u001b[0m\n\u001b[0m\u001b[1;32m     20\u001b[0m     \u001b[0mtime\u001b[0m\u001b[0;34m.\u001b[0m\u001b[0msleep\u001b[0m\u001b[0;34m(\u001b[0m\u001b[0;36m10\u001b[0m\u001b[0;34m)\u001b[0m\u001b[0;34m\u001b[0m\u001b[0m\n",
      "\u001b[0;31mNameError\u001b[0m: name 'm' is not defined"
     ]
    },
    {
     "name": "stderr",
     "output_type": "stream",
     "text": [
      "LOG OUT!\n"
     ]
    }
   ],
   "source": [
    "import itchat\n",
    "from itchat.content import TEXT\n",
    "\n",
    "global m\n",
    "\n",
    "@itchat.msg_register(TEXT, isFriendChat=True)\n",
    "def text_reply(msg):\n",
    "    print(msg)\n",
    "    m = msg['Text']\n",
    "    print(msg['FromUserName'])\n",
    "    print(msg['NickName'])\n",
    "    itchat.send_msg('hello world', toUserName=msg['FromUserName'])\n",
    "    \n",
    "itchat.auto_login(hotReload=True)\n",
    "itchat.run()\n",
    "\n",
    "import time\n",
    "while 1:\n",
    "    print(m)\n",
    "    time.sleep(10)"
   ]
  },
  {
   "cell_type": "code",
   "execution_count": 3,
   "metadata": {},
   "outputs": [
    {
     "name": "stdout",
     "output_type": "stream",
     "text": [
      "{'arg0': 0, 'arg1': 1, 'arg2': 4, 'arg3': 9, 'arg4': 16, 'arg5': 25, 'arg6': 36, 'arg7': 49, 'arg8': 64, 'arg9': 81, 'arg10': 100, 'arg11': 121, 'arg12': 144, 'arg13': 169, 'arg14': 196, 'arg15': 225, 'arg16': 256, 'arg17': 289, 'arg18': 324, 'arg19': 361} \n",
      " [11, 12, 13, 14, 15, 21, 22, 23, 24, 25]\n"
     ]
    }
   ],
   "source": [
    "from multiprocessing import Process, Manager\n",
    "\n",
    "def func(dt, lt):\n",
    "    for i in range(10):\n",
    "        key = 'arg' + str(i)\n",
    "        dt[key] = i * i\n",
    "\n",
    "    lt += range(11, 16)\n",
    "\n",
    "def func2(dt, lt):\n",
    "    for i in range(10, 20):\n",
    "        key = 'arg' + str(i)\n",
    "        dt[key] = i * i\n",
    "\n",
    "    lt += range(21, 26)\n",
    "    \n",
    "    \n",
    "if __name__ == \"__main__\":\n",
    "    manager = Manager()\n",
    "    dt = manager.dict()\n",
    "    lt = manager.list()\n",
    "\n",
    "    p1 = Process(target=func, args=(dt, lt))\n",
    "    p2 = Process(target=func2, args=(dt, lt))\n",
    "    p1.start()\n",
    "    p2.start()\n",
    "    p1.join()\n",
    "    p2.join()\n",
    "    print(dt, '\\n', lt)"
   ]
  },
  {
   "cell_type": "code",
   "execution_count": 1,
   "metadata": {},
   "outputs": [
    {
     "name": "stdout",
     "output_type": "stream",
     "text": [
      "█\r"
     ]
    },
    {
     "name": "stderr",
     "output_type": "stream",
     "text": [
      "Getting uuid of QR code.\n",
      "Downloading QR code.\n",
      "Please scan the QR code to log in.\n",
      "Please press confirm on your phone.\n",
      "Loading the contact, this may take a little while.\n",
      "Login successfully as muzhen\n"
     ]
    },
    {
     "data": {
      "text/plain": [
       "<ItchatReturnValue: {'BaseResponse': {'Ret': 1204, 'ErrMsg': '', 'RawMsg': ''}, 'MsgID': '', 'LocalID': ''}>"
      ]
     },
     "execution_count": 1,
     "metadata": {},
     "output_type": "execute_result"
    }
   ],
   "source": [
    "import itchat\n",
    "itchat.auto_login(hotReload=True)\n",
    "\n",
    "itchat.send_msg('hello world')"
   ]
  },
  {
   "cell_type": "code",
   "execution_count": 9,
   "metadata": {},
   "outputs": [
    {
     "data": {
      "text/plain": [
       "<ItchatReturnValue: {'BaseResponse': {'Ret': 1204, 'ErrMsg': '', 'RawMsg': ''}, 'MsgID': '', 'LocalID': ''}>"
      ]
     },
     "execution_count": 9,
     "metadata": {},
     "output_type": "execute_result"
    }
   ],
   "source": [
    "itchat.send_msg('hello world', toUserName='')"
   ]
  },
  {
   "cell_type": "code",
   "execution_count": 10,
   "metadata": {},
   "outputs": [
    {
     "ename": "KeyboardInterrupt",
     "evalue": "",
     "output_type": "error",
     "traceback": [
      "\u001b[0;31m---------------------------------------------------------------------------\u001b[0m",
      "\u001b[0;31mKeyboardInterrupt\u001b[0m                         Traceback (most recent call last)",
      "\u001b[0;32m<ipython-input-10-6dbbf0c8d591>\u001b[0m in \u001b[0;36m<module>\u001b[0;34m()\u001b[0m\n\u001b[1;32m     81\u001b[0m \u001b[0;34m\u001b[0m\u001b[0m\n\u001b[1;32m     82\u001b[0m \u001b[0;34m\u001b[0m\u001b[0m\n\u001b[0;32m---> 83\u001b[0;31m             \u001b[0mtime\u001b[0m\u001b[0;34m.\u001b[0m\u001b[0msleep\u001b[0m\u001b[0;34m(\u001b[0m\u001b[0;36m10\u001b[0m\u001b[0;34m)\u001b[0m\u001b[0;34m\u001b[0m\u001b[0m\n\u001b[0m",
      "\u001b[0;31mKeyboardInterrupt\u001b[0m: "
     ]
    }
   ],
   "source": [
    "import itchat\n",
    "from rest_api.HuobiServices import *\n",
    "import pandas as pd\n",
    "import json\n",
    "import time\n",
    "from mailalarm.sendmail import send_mail\n",
    "\n",
    "xh_symbol = ['btcusdt']\n",
    "xh_period = ['5min']\n",
    "upper_threshold = 10200\n",
    "lower_threshold = 9400\n",
    "\n",
    "tid_bench = 0\n",
    "\n",
    "while True:\n",
    "    for symbol in xh_symbol:\n",
    "        for period in xh_period:\n",
    "            data = get_kline(symbol, period)\n",
    "\n",
    "            df = pd.read_json(json.dumps(data['data']))\n",
    "\n",
    "            def timestamp_to_datetime(s):\n",
    "                timeArray = time.localtime(s)\n",
    "                return time.strftime(\"%Y-%m-%d %H:%M:%S\", timeArray)\n",
    "\n",
    "            df.id = pd.to_datetime(df.id.map(timestamp_to_datetime))\n",
    "\n",
    "            if df.id[0] == tid_bench:\n",
    "                time.sleep(10)\n",
    "                continue\n",
    "            else:\n",
    "                tid_bench = df.id[0]\n",
    "                \n",
    "            amount_ratio = df.amount[1] / df.amount[2:].mean()\n",
    "            upper = df.high[1]\n",
    "            lower = df.low[1]\n",
    "            span = upper - lower\n",
    "            var = df.high[0] - df.low[0]\n",
    "\n",
    "            sgn = 0\n",
    "\n",
    "            if amount_ratio >= 2:\n",
    "                amount_msg = f'{symbol} {period} amount is over {amount_ratio} times'\n",
    "                sgn += 1\n",
    "            elif amount_ratio <= 0.5:\n",
    "                amount_msg = f'{symbol} {period} amount reaches {amount_ratio} times'\n",
    "                sgn += 1\n",
    "            else:\n",
    "                amount_msg = amount_ratio\n",
    "\n",
    "            if upper >= upper_threshold:\n",
    "                upper_msg = f'{symbol} {period} high price is over {upper}'\n",
    "                sgn += 1\n",
    "                upper_threshold += 100\n",
    "            else:\n",
    "                upper_msg = upper\n",
    "\n",
    "            if lower <= lower_threshold:\n",
    "                lower_msg = f'{symbol} {period} low price reaches {lower}'\n",
    "                sgn += 1\n",
    "                lower_threshold -= 100\n",
    "            else:\n",
    "                lower_msg = lower\n",
    "\n",
    "            if span >= 100:\n",
    "                span_msg = f'{symbol} {period} span is {span}'\n",
    "                sgn += 1\n",
    "            else:\n",
    "                span_msg = span\n",
    "\n",
    "            if var >= 50:\n",
    "                var_msg = f'{symbol} {period} var is {var}'\n",
    "                sgn += 1\n",
    "            else:\n",
    "                var_msg = var\n",
    "\n",
    "            msg = {'amount_msg': amount_msg, 'upper_msg': upper_msg, 'lower_msg': lower_msg, 'span_msg': span_msg, 'var_msg': var_msg}\n",
    "\n",
    "            if sgn > 0:\n",
    "                send_mail(json.dumps(msg))\n",
    "\n",
    "\n",
    "            time.sleep(10)"
   ]
  },
  {
   "cell_type": "code",
   "execution_count": 6,
   "metadata": {},
   "outputs": [
    {
     "data": {
      "text/plain": [
       "False"
      ]
     },
     "execution_count": 6,
     "metadata": {},
     "output_type": "execute_result"
    }
   ],
   "source": [
    "df.id[0] == 0"
   ]
  }
 ],
 "metadata": {
  "kernelspec": {
   "display_name": "Python 3",
   "language": "python",
   "name": "python3"
  },
  "language_info": {
   "codemirror_mode": {
    "name": "ipython",
    "version": 3
   },
   "file_extension": ".py",
   "mimetype": "text/x-python",
   "name": "python",
   "nbconvert_exporter": "python",
   "pygments_lexer": "ipython3",
   "version": "3.6.3"
  }
 },
 "nbformat": 4,
 "nbformat_minor": 2
}
